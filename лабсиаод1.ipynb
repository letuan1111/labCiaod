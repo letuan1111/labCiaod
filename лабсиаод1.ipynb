{
 "cells": [
  {
   "cell_type": "markdown",
   "id": "a84419b8",
   "metadata": {},
   "source": [
    "# Лабораторная работа №1\n",
    "## Выполнил студент группы БФИ2201  ЕЛОНГО ДидоЛунге"
   ]
  },
  {
   "cell_type": "markdown",
   "id": "be0daded",
   "metadata": {},
   "source": [
    "### Оглавление\n",
    "1. [Задание 1](#Задание-№1)\n",
    "2. [Задание 2](#Задание-№2)\n",
    "3. [Задание 3](#Задание-№3)\n",
    "4. [Вывод](#Вывод)"
   ]
  },
  {
   "cell_type": "markdown",
   "id": "099342b9",
   "metadata": {},
   "source": [
    "### Задание №1\n",
    "<i> Вызвать функцию print() и передать туда строку Hello, World! </i>"
   ]
  },
  {
   "cell_type": "code",
   "execution_count": 1,
   "id": "f0a10fa7",
   "metadata": {},
   "outputs": [
    {
     "name": "stdout",
     "output_type": "stream",
     "text": [
      "Hello, World1!\n"
     ]
    }
   ],
   "source": [
    "print(\"Hello, World1!\")"
   ]
  },
  {
   "cell_type": "markdown",
   "id": "c977a494",
   "metadata": {},
   "source": [
    "### Задание №2\n",
    "Написать генератор случайных матриц(многомерных), который принимает\n",
    "опциональные параметры <b>m</b>, <b>n</b>, <b>min_limit</b>, <b>max_limit</b>, где <b>m</b> и <b>n</b> указывают размер\n",
    "матрицы, а <b>min_lim</b> и <b>max_lim</b> - минимальное и максимальное значение для\n",
    "генерируемого числа."
   ]
  },
  {
   "cell_type": "code",
   "execution_count": 2,
   "id": "41877330",
   "metadata": {},
   "outputs": [
    {
     "data": {
      "text/plain": [
       "[[334, 395, 958, 953, 895],\n",
       " [4, 443, 259, 606, 854],\n",
       " [356, 475, 796, 798, 883],\n",
       " [925, 843, 290, 316, 726],\n",
       " [955, 338, 885, 122, 255]]"
      ]
     },
     "execution_count": 2,
     "metadata": {},
     "output_type": "execute_result"
    }
   ],
   "source": [
    "#генерация двумерного массива\n",
    "m,n=5,5\n",
    "import random\n",
    "def create_mas(m, n):\n",
    "    arr2d=[]\n",
    "    for i in range(m):\n",
    "        irr=[]\n",
    "        for j in range(n):\n",
    "            irr.append(random.randint(-25,1003))\n",
    "        arr2d.append(irr)\n",
    "    return (arr2d)\n",
    "mas=create_mas(m, n)\n",
    "create_mas(m, n)"
   ]
  },
  {
   "cell_type": "markdown",
   "id": "5a086cfb",
   "metadata": {},
   "source": [
    "### Задание №3\n",
    "Реализовать методы сортировки строк числовой матрицы в соответствии с\n",
    "заданием. Оценить время работы каждого алгоритма сортировки и сравнить его со\n",
    "временем стандартной функции сортировки. Испытания проводить на сгенерированных\n",
    "матрицах."
   ]
  },
  {
   "cell_type": "code",
   "execution_count": 3,
   "id": "1bdf3905",
   "metadata": {},
   "outputs": [
    {
     "data": {
      "text/plain": [
       "[[-16, 380, 478, 505, 884],\n",
       " [18, 53, 392, 663, 976],\n",
       " [27, 115, 270, 447, 558],\n",
       " [57, 195, 261, 714, 956],\n",
       " [65, 138, 679, 768, 808]]"
      ]
     },
     "execution_count": 3,
     "metadata": {},
     "output_type": "execute_result"
    }
   ],
   "source": [
    "#сортировка выбором\n",
    "mas=create_mas(m, n)\n",
    "def selection_sort(mas):        \n",
    "    for i in range(len(mas)):\n",
    "        minimum = i\n",
    "        \n",
    "        for j in range(i + 1, len(mas)):\n",
    "            if mas[j] < mas[minimum]:\n",
    "                minimum = j\n",
    "\n",
    "        mas[minimum], mas[i] = mas[i], mas[minimum]\n",
    "            \n",
    "    return mas\n",
    "for row in range(len(mas)):\n",
    "     selection_sort(mas[row]) \n",
    "\n",
    "selection_sort(mas)\n",
    "\n"
   ]
  },
  {
   "cell_type": "code",
   "execution_count": 4,
   "id": "51471e07",
   "metadata": {},
   "outputs": [
    {
     "data": {
      "text/plain": [
       "[[44, 164, 247, 640, 994],\n",
       " [166, 498, 533, 604, 989],\n",
       " [179, 318, 537, 767, 952],\n",
       " [282, 481, 648, 767, 847],\n",
       " [641, 651, 706, 923, 957]]"
      ]
     },
     "execution_count": 4,
     "metadata": {},
     "output_type": "execute_result"
    }
   ],
   "source": [
    "#сортировка вставкой\n",
    "mas=create_mas(m, n)\n",
    "def insertion_sort(mas):\n",
    "        \n",
    "    for i in range(len(mas)):\n",
    "        cursor = mas[i]\n",
    "        pos = i\n",
    "        \n",
    "        while pos > 0 and mas[pos - 1] > cursor:\n",
    "            # Меняем местами число, продвигая по списку\n",
    "            mas[pos] = mas[pos - 1]\n",
    "            pos = pos - 1\n",
    "        # Остановимся и сделаем последний обмен\n",
    "        mas[pos] = cursor\n",
    "\n",
    "    return mas\n",
    "for row in range(len(mas)):\n",
    "     selection_sort(mas[row]) \n",
    "insertion_sort(mas)"
   ]
  },
  {
   "cell_type": "code",
   "execution_count": 5,
   "id": "28e80f0a",
   "metadata": {},
   "outputs": [
    {
     "data": {
      "text/plain": [
       "[[-17, 404, 765, 791, 902],\n",
       " [70, 375, 404, 541, 984],\n",
       " [232, 453, 601, 824, 991],\n",
       " [296, 408, 646, 686, 689],\n",
       " [449, 513, 700, 742, 985]]"
      ]
     },
     "execution_count": 5,
     "metadata": {},
     "output_type": "execute_result"
    }
   ],
   "source": [
    "#сортировка обменом\n",
    "mas=create_mas(m, n)\n",
    "def bubble(mas):\n",
    "    changed = True\n",
    "    while changed:\n",
    "        changed = False\n",
    "        for i in range(len(mas) - 1):\n",
    "            if mas[i] > mas[i+1]:\n",
    "                mas[i], mas[i+1] = mas[i+1], mas[i]\n",
    "                changed = True\n",
    "    return mas\n",
    "for row in range(len(mas)):\n",
    "     bubble(mas[row]) \n",
    "bubble(mas)                     "
   ]
  },
  {
   "cell_type": "code",
   "execution_count": 6,
   "id": "4dfa6c6d",
   "metadata": {},
   "outputs": [
    {
     "ename": "SyntaxError",
     "evalue": "unterminated string literal (detected at line 6) (378826770.py, line 6)",
     "output_type": "error",
     "traceback": [
      "\u001b[1;36m  Cell \u001b[1;32mIn[6], line 6\u001b[1;36m\u001b[0m\n\u001b[1;33m    while gap > 0:'7[\u001b[0m\n\u001b[1;37m                  ^\u001b[0m\n\u001b[1;31mSyntaxError\u001b[0m\u001b[1;31m:\u001b[0m unterminated string literal (detected at line 6)\n"
     ]
    }
   ],
   "source": [
    "#сортировка Шелла\n",
    "mas=create_mas(m, n)\n",
    "def shell_sort(mas):\n",
    "    gap = len(mas) // 2\n",
    "\n",
    "    while gap > 0:'7[\n",
    "        for value in range(gap, len(mas)):\n",
    "            current_value = mas[value]\n",
    "            position = value\n",
    "\n",
    "            while position >= gap and mas[position - gap] > current_value:\n",
    "                mas[position] = mas[position - gap]\n",
    "                position -= gap\n",
    "                mas[position] = current_value\n",
    "\n",
    "        gap //= 2\n",
    "    return mas\n",
    "for row in range(len(mas)):\n",
    "     shell_sort(mas[row])\n",
    "shell_sort(mas)"
   ]
  },
  {
   "cell_type": "code",
   "execution_count": 7,
   "id": "970c7c3e",
   "metadata": {},
   "outputs": [
    {
     "data": {
      "text/plain": [
       "[[61, 85, 322, 571, 695],\n",
       " [77, 82, 455, 580, 642],\n",
       " [91, 189, 251, 388, 397],\n",
       " [532, 552, 588, 766, 801],\n",
       " [704, 793, 834, 938, 953]]"
      ]
     },
     "execution_count": 7,
     "metadata": {},
     "output_type": "execute_result"
    }
   ],
   "source": [
    "#быстаря сортировка\n",
    "mas=create_mas(m, n)\n",
    "def quick_sort(mas):\n",
    "    quick_sort_helper(mas, 0, len(mas) - 1)\n",
    "    return mas\n",
    "\n",
    "\n",
    "def quick_sort_helper(mas, low, high):\n",
    "    if low < high:\n",
    "        split_point = partition(mas, low, high)\n",
    "        quick_sort_helper(mas, low, split_point - 1)\n",
    "        quick_sort_helper(mas, split_point + 1, high)\n",
    "\n",
    "\n",
    "def partition(mas, low, high):\n",
    "    pivot_value = mas[low]\n",
    "    left_mark = low + 1\n",
    "    right_mark = high\n",
    "    done = False\n",
    "\n",
    "    while not done:\n",
    "        while left_mark <= right_mark and mas[left_mark] <= pivot_value:\n",
    "            left_mark += 1\n",
    "        while right_mark >= left_mark and mas[right_mark] >= pivot_value:\n",
    "            right_mark -= 1\n",
    "\n",
    "        if right_mark < left_mark:\n",
    "            done = True\n",
    "        else:\n",
    "            mas[left_mark], mas[right_mark] = mas[right_mark], mas[left_mark]\n",
    "\n",
    "    mas[low], mas[right_mark] = mas[right_mark], mas[low]\n",
    "    return right_mark\n",
    "for row in range(len(mas)):\n",
    "     quick_sort(mas[row])\n",
    "quick_sort(mas)   "
   ]
  },
  {
   "cell_type": "code",
   "execution_count": 8,
   "id": "7abc3cb1",
   "metadata": {},
   "outputs": [
    {
     "data": {
      "text/plain": [
       "[[2, 32, 51, 132, 406],\n",
       " [33, 309, 375, 634, 679],\n",
       " [89, 211, 705, 748, 987],\n",
       " [161, 304, 425, 491, 695],\n",
       " [258, 437, 610, 841, 866]]"
      ]
     },
     "execution_count": 8,
     "metadata": {},
     "output_type": "execute_result"
    }
   ],
   "source": [
    "#спирамидальная сортировка\n",
    "mas=create_mas(m, n)\n",
    "def heap(mas, heap_size, root_index):\n",
    "    largest = root_index\n",
    "    left_child = (2 * root_index) + 1\n",
    "    right_child = (2 * root_index) + 2\n",
    "    if left_child < heap_size and mas[left_child] > mas[largest]:\n",
    "        largest = left_child\n",
    "    if right_child < heap_size and mas[right_child] > mas[largest]:\n",
    "        largest = right_child\n",
    "    if largest != root_index:\n",
    "        mas[root_index], mas[largest] = mas[largest], mas[root_index]\n",
    "        heap(mas, heap_size, largest)\n",
    "def pyr_sort(mas):\n",
    "    n = len(mas)\n",
    "    for i in range(n, -1, -1):\n",
    "        heap(mas, n, i)\n",
    "    for i in range(n - 1, 0, -1):\n",
    "        mas[i], mas[0] = mas[0], mas[i]\n",
    "        heap(mas, i, 0)\n",
    "    return mas\n",
    "for row in range(len(mas)):\n",
    "     pyr_sort(mas[row])\n",
    "pyr_sort(mas) "
   ]
  },
  {
   "cell_type": "code",
   "execution_count": 9,
   "id": "6803bc87",
   "metadata": {},
   "outputs": [
    {
     "ename": "NameError",
     "evalue": "name 'end' is not defined",
     "output_type": "error",
     "traceback": [
      "\u001b[1;31m---------------------------------------------------------------------------\u001b[0m",
      "\u001b[1;31mNameError\u001b[0m                                 Traceback (most recent call last)",
      "Cell \u001b[1;32mIn[9], line 9\u001b[0m\n\u001b[0;32m      7\u001b[0m selection_sort(mas)\n\u001b[0;32m      8\u001b[0m endtime \u001b[38;5;241m=\u001b[39m timeit\u001b[38;5;241m.\u001b[39mdefault_timer()\n\u001b[1;32m----> 9\u001b[0m \u001b[38;5;28mprint\u001b[39m(\u001b[38;5;124m\"\u001b[39m\u001b[38;5;124mСортировка выбором:\u001b[39m\u001b[38;5;124m\"\u001b[39m, \u001b[43mend\u001b[49m \u001b[38;5;241m-\u001b[39m start, \u001b[38;5;124m\"\u001b[39m\u001b[38;5;124mсекунд\u001b[39m\u001b[38;5;124m\"\u001b[39m)\n\u001b[0;32m     11\u001b[0m start \u001b[38;5;241m=\u001b[39m timeit\u001b[38;5;241m.\u001b[39mdefault_timer()\n\u001b[0;32m     12\u001b[0m mas\u001b[38;5;241m=\u001b[39marray\n",
      "\u001b[1;31mNameError\u001b[0m: name 'end' is not defined"
     ]
    }
   ],
   "source": [
    "#сравнение по времени алгритмов сортировки\n",
    "array=create_mas(m, n)\n",
    "\n",
    "import timeit\n",
    "star = timeit.default_timer()\n",
    "mas=array\n",
    "selection_sort(mas)\n",
    "endtime = timeit.default_timer()\n",
    "print(\"Сортировка выбором:\", end - start, \"секунд\")\n",
    "\n",
    "start = timeit.default_timer()\n",
    "mas=array\n",
    "insertion_sort(mas)\n",
    "end = timeit.default_timer()\n",
    "print(\"Сортировка вставкой:\", end - start, \"секунд\")\n",
    "\n",
    "start = timeit.default_timer()\n",
    "mas=array\n",
    "bubble(mas)\n",
    "end = timeit.default_timer()\n",
    "print(\"Сортировка обменом:\", end - start, \"секунд\")\n",
    "\n",
    "start = timeit.default_timer()\n",
    "mas=array\n",
    "shell_sort(mas)\n",
    "end = timeit.default_timer()\n",
    "print(\"Сортировка Шелла:\", end - start, \"секунд\")\n",
    "\n",
    "start = timeit.default_timer()\n",
    "mas=array\n",
    "quick_sort(mas)\n",
    "end = timeit.default_timer()\n",
    "print(\"Быстрая сортировка:\", end - start, \"секунд\")\n",
    "\n",
    "start = timeit.default_timer()\n",
    "mas=array\n",
    "pyr_sort(mas) \n",
    "end = timeit.default_timer()\n",
    "print(\"Пирамидальная сортировка:\", end - start, \"секунд\")\n",
    "\n",
    "start = timeit.default_timer()\n",
    "for row in range(len(mas)):\n",
    "    mas[row].sort()\n",
    "    end = timeit.default_timer()\n",
    "print(\"Встроенная сортировка:\", end - start, \"секунд\")"
   ]
  },
  {
   "cell_type": "code",
   "execution_count": null,
   "id": "99c9d333-9e7e-4480-ba06-ea97312d5fdf",
   "metadata": {},
   "outputs": [],
   "source": [
    "#сортировка выбором\n",
    "mas=create_mas(m, n)\n",
    "for row in range(len(mas)):\n",
    "    mas[row].sort()\n",
    "    print(mas[row])"
   ]
  },
  {
   "cell_type": "markdown",
   "id": "8000239e",
   "metadata": {},
   "source": [
    "ВЫВОД"
   ]
  },
  {
   "cell_type": "code",
   "execution_count": null,
   "id": "1cc6d261",
   "metadata": {},
   "outputs": [],
   "source": [
    "print(\"По итогам лабораторной работы была выяснено, что стандартный алгоритм сортировки является наиболее быстродейтсвенным, чем самостоятельные реализации различных алгоритмов\")"
   ]
  },
  {
   "cell_type": "code",
   "execution_count": 10,
   "id": "328db8a8-5991-4125-9116-1d09137755de",
   "metadata": {},
   "outputs": [
    {
     "data": {
      "text/plain": [
       "[1, 2, 5, 2, 3, 4]"
      ]
     },
     "execution_count": 10,
     "metadata": {},
     "output_type": "execute_result"
    }
   ],
   "source": [
    "a = [1, 2, 5, 2, 3]\n",
    "a.append(4)\n",
    "a"
   ]
  },
  {
   "cell_type": "code",
   "execution_count": null,
   "id": "b2294e89-6fa1-462a-9d71-9290807aa32a",
   "metadata": {},
   "outputs": [],
   "source": []
  },
  {
   "cell_type": "code",
   "execution_count": null,
   "id": "7679ee81-9343-4a35-8935-3b4bc83c23e4",
   "metadata": {},
   "outputs": [],
   "source": []
  }
 ],
 "metadata": {
  "kernelspec": {
   "display_name": "Python 3 (ipykernel)",
   "language": "python",
   "name": "python3"
  },
  "language_info": {
   "codemirror_mode": {
    "name": "ipython",
    "version": 3
   },
   "file_extension": ".py",
   "mimetype": "text/x-python",
   "name": "python",
   "nbconvert_exporter": "python",
   "pygments_lexer": "ipython3",
   "version": "3.12.0"
  }
 },
 "nbformat": 4,
 "nbformat_minor": 5
}
